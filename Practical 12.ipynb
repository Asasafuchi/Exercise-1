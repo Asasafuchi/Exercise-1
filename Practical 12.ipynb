{
 "cells": [
  {
   "cell_type": "code",
   "execution_count": 3,
   "id": "f8096402",
   "metadata": {},
   "outputs": [
    {
     "name": "stdout",
     "output_type": "stream",
     "text": [
      "Epoch 1/10\n",
      "1563/1563 [==============================] - 23s 14ms/step - loss: 2.3023 - accuracy: 0.1152 - val_loss: 2.2491 - val_accuracy: 0.1602\n",
      "Epoch 2/10\n",
      "1563/1563 [==============================] - 21s 13ms/step - loss: 2.2153 - accuracy: 0.1842 - val_loss: 2.1796 - val_accuracy: 0.2056\n",
      "Epoch 3/10\n",
      "1563/1563 [==============================] - 20s 13ms/step - loss: 2.1556 - accuracy: 0.2226 - val_loss: 2.1271 - val_accuracy: 0.2356\n",
      "Epoch 4/10\n",
      "1563/1563 [==============================] - 24s 15ms/step - loss: 2.1091 - accuracy: 0.2506 - val_loss: 2.0852 - val_accuracy: 0.2636\n",
      "Epoch 5/10\n",
      "1563/1563 [==============================] - 28s 18ms/step - loss: 2.0715 - accuracy: 0.2714 - val_loss: 2.0508 - val_accuracy: 0.2794\n",
      "Epoch 6/10\n",
      "1563/1563 [==============================] - 23s 15ms/step - loss: 2.0400 - accuracy: 0.2862 - val_loss: 2.0214 - val_accuracy: 0.2945\n",
      "Epoch 7/10\n",
      "1563/1563 [==============================] - 26s 17ms/step - loss: 2.0129 - accuracy: 0.2981 - val_loss: 1.9959 - val_accuracy: 0.3067\n",
      "Epoch 8/10\n",
      "1563/1563 [==============================] - 24s 15ms/step - loss: 1.9890 - accuracy: 0.3081 - val_loss: 1.9732 - val_accuracy: 0.3170\n",
      "Epoch 9/10\n",
      "1563/1563 [==============================] - 25s 16ms/step - loss: 1.9677 - accuracy: 0.3176 - val_loss: 1.9529 - val_accuracy: 0.3271\n",
      "Epoch 10/10\n",
      "1563/1563 [==============================] - 30s 19ms/step - loss: 1.9485 - accuracy: 0.3252 - val_loss: 1.9344 - val_accuracy: 0.3333\n",
      "313/313 - 3s - loss: 1.9344 - accuracy: 0.3333 - 3s/epoch - 8ms/step\n",
      "Test accuracy: 0.33329999446868896\n"
     ]
    }
   ],
   "source": [
    "import tensorflow as tf\n",
    "from tensorflow.keras.datasets import cifar10\n",
    "from tensorflow.keras.models import Sequential\n",
    "from tensorflow.keras.layers import Dense, Conv2D, MaxPooling2D, Flatten, Dropout, LeakyReLU\n",
    "from tensorflow.keras.activations import tanh\n",
    "from tensorflow.keras.optimizers import SGD\n",
    "\n",
    "# Load CIFAR-10 dataset\n",
    "(x_train, y_train), (x_test, y_test) = cifar10.load_data()\n",
    "\n",
    "#normalize pixel values\n",
    "x_train = x_train.astype('float32') /127.5 -1\n",
    "x_test = x_test.astype('float32') / 127.5 - 1\n",
    "\n",
    "# Define model architecture\n",
    "model = Sequential()\n",
    "model.add(Conv2D(32, (3, 3), activation='tanh', input_shape=(32, 32, 3)))\n",
    "model.add(MaxPooling2D((2, 2)))\n",
    "model.add(Conv2D(64, (3, 3), activation='tanh'))\n",
    "model.add(MaxPooling2D((2, 2)))\n",
    "model.add(Flatten())\n",
    "model.add(Dense(64, activation='tanh'))\n",
    "model.add(Dense(10, activation='softmax'))\n",
    "\n",
    "# Compile model\n",
    "opt = SGD(learning_rate=0.0001)\n",
    "model.compile(optimizer=opt, loss='sparse_categorical_crossentropy', metrics=['accuracy'])\n",
    "\n",
    "# Train model\n",
    "history = model.fit(x_train, y_train, epochs=10, validation_data=(x_test, y_test))\n",
    "\n",
    "# Evaluate model\n",
    "test_loss, test_acc = model.evaluate(x_test, y_test, verbose=2)\n",
    "print('Test accuracy:', test_acc)"
   ]
  },
  {
   "cell_type": "code",
   "execution_count": 5,
   "id": "2ac5dbbf",
   "metadata": {},
   "outputs": [
    {
     "name": "stdout",
     "output_type": "stream",
     "text": [
      "Epoch 1/10\n",
      "1563/1563 [==============================] - 22s 14ms/step - loss: 1.6459 - accuracy: 0.4223 - val_loss: 1.4323 - val_accuracy: 0.5003\n",
      "Epoch 2/10\n",
      "1563/1563 [==============================] - 22s 14ms/step - loss: 1.3360 - accuracy: 0.5350 - val_loss: 1.2720 - val_accuracy: 0.5587\n",
      "Epoch 3/10\n",
      "1563/1563 [==============================] - 20s 13ms/step - loss: 1.2077 - accuracy: 0.5805 - val_loss: 1.1820 - val_accuracy: 0.5899\n",
      "Epoch 4/10\n",
      "1563/1563 [==============================] - 24s 16ms/step - loss: 1.1235 - accuracy: 0.6092 - val_loss: 1.1288 - val_accuracy: 0.6054\n",
      "Epoch 5/10\n",
      "1563/1563 [==============================] - 22s 14ms/step - loss: 1.0621 - accuracy: 0.6323 - val_loss: 1.0710 - val_accuracy: 0.6284\n",
      "Epoch 6/10\n",
      "1563/1563 [==============================] - 21s 14ms/step - loss: 1.0137 - accuracy: 0.6507 - val_loss: 1.0459 - val_accuracy: 0.6385\n",
      "Epoch 7/10\n",
      "1563/1563 [==============================] - 22s 14ms/step - loss: 0.9723 - accuracy: 0.6646 - val_loss: 1.0210 - val_accuracy: 0.6491\n",
      "Epoch 8/10\n",
      "1563/1563 [==============================] - 22s 14ms/step - loss: 0.9378 - accuracy: 0.6779 - val_loss: 1.0036 - val_accuracy: 0.6588\n",
      "Epoch 9/10\n",
      "1563/1563 [==============================] - 23s 15ms/step - loss: 0.9076 - accuracy: 0.6877 - val_loss: 0.9862 - val_accuracy: 0.6623\n",
      "Epoch 10/10\n",
      "1563/1563 [==============================] - 24s 15ms/step - loss: 0.8798 - accuracy: 0.6992 - val_loss: 0.9714 - val_accuracy: 0.6679\n",
      "313/313 - 2s - loss: 0.9714 - accuracy: 0.6679 - 2s/epoch - 5ms/step\n",
      "Test accuracy: 0.667900025844574\n"
     ]
    }
   ],
   "source": [
    "# Load CIFAR-10 dataset\n",
    "from tensorflow.keras.optimizers import Adam\n",
    "from tensorflow.keras.datasets import cifar10\n",
    "from tensorflow.keras.models import Sequential\n",
    "from tensorflow.keras.layers import Dense, Conv2D, MaxPooling2D, Flatten, Dropout, LeakyReLU\n",
    "from tensorflow.keras.optimizers import SGD\n",
    "(x_train, y_train), (x_test, y_test) = cifar10.load_data()\n",
    "\n",
    "\n",
    "x_train = x_train.astype('float32') /127.5 -1\n",
    "x_test = x_test.astype('float32') / 127.5 - 1\n",
    "\n",
    "# Define model architecture\n",
    "model = Sequential()\n",
    "model.add(Conv2D(32, (3, 3), activation='tanh', input_shape=(32, 32, 3)))\n",
    "model.add(MaxPooling2D((2, 2)))\n",
    "model.add(Conv2D(64, (3, 3), activation='tanh'))\n",
    "model.add(MaxPooling2D((2, 2)))\n",
    "model.add(Flatten())\n",
    "model.add(Dense(64, activation='tanh'))\n",
    "model.add(Dense(10, activation='softmax'))\n",
    "\n",
    "# Compile model\n",
    "opt = Adam(learning_rate=0.0001)\n",
    "model.compile(optimizer=opt, loss='sparse_categorical_crossentropy', metrics=['accuracy'])\n",
    "\n",
    "# Train model\n",
    "history = model.fit(x_train, y_train, epochs=10, validation_data=(x_test, y_test))\n",
    "\n",
    "# Evaluate model\n",
    "test_loss, test_acc = model.evaluate(x_test, y_test, verbose=2)\n",
    "print('Test accuracy:', test_acc)"
   ]
  },
  {
   "cell_type": "code",
   "execution_count": null,
   "id": "78160b18",
   "metadata": {},
   "outputs": [],
   "source": []
  }
 ],
 "metadata": {
  "kernelspec": {
   "display_name": "Python 3 (ipykernel)",
   "language": "python",
   "name": "python3"
  },
  "language_info": {
   "codemirror_mode": {
    "name": "ipython",
    "version": 3
   },
   "file_extension": ".py",
   "mimetype": "text/x-python",
   "name": "python",
   "nbconvert_exporter": "python",
   "pygments_lexer": "ipython3",
   "version": "3.9.16"
  }
 },
 "nbformat": 4,
 "nbformat_minor": 5
}
